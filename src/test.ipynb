{
 "cells": [
  {
   "cell_type": "code",
   "execution_count": 1,
   "metadata": {},
   "outputs": [],
   "source": [
    "from snsUtils import getConversationIdsFromUser, getThread, Thread, getTweet, getThread\n",
    "from datetime import datetime, timedelta, timezone"
   ]
  },
  {
   "cell_type": "code",
   "execution_count": 5,
   "metadata": {},
   "outputs": [],
   "source": [
    "conversation_ids = getConversationIdsFromUser(\n",
    "    username='threadreaderapp', max_lookback_tweets=100000)"
   ]
  },
  {
   "cell_type": "code",
   "execution_count": 17,
   "metadata": {},
   "outputs": [],
   "source": [
    "thread = getThread(\"1621837615212429318\")\n"
   ]
  },
  {
   "cell_type": "code",
   "execution_count": 26,
   "metadata": {},
   "outputs": [
    {
     "name": "stdout",
     "output_type": "stream",
     "text": [
      "[]\n"
     ]
    },
    {
     "name": "stderr",
     "output_type": "stream",
     "text": [
      "/tmp/ipykernel_5962/3803918559.py:2: FutureWarning: tcooutlinks is deprecated, use links (tcourl attribute) instead\n",
      "  pprint(thread.tweets[0].tcooutlinks)\n"
     ]
    }
   ],
   "source": [
    "from pprint import pprint\n",
    "pprint(thread.tweets[0].links)"
   ]
  }
 ],
 "metadata": {
  "kernelspec": {
   "display_name": "threads-hNXX-s2B-py3.10",
   "language": "python",
   "name": "python3"
  },
  "language_info": {
   "codemirror_mode": {
    "name": "ipython",
    "version": 3
   },
   "file_extension": ".py",
   "mimetype": "text/x-python",
   "name": "python",
   "nbconvert_exporter": "python",
   "pygments_lexer": "ipython3",
   "version": "3.10.6"
  },
  "orig_nbformat": 4,
  "vscode": {
   "interpreter": {
    "hash": "9c9ba9c9bd5e7c8ecdc7269adc37c639bc6fefd655e3b2591347c718624f11b2"
   }
  }
 },
 "nbformat": 4,
 "nbformat_minor": 2
}

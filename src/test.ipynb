{
 "cells": [
  {
   "cell_type": "code",
   "execution_count": 1,
   "metadata": {},
   "outputs": [],
   "source": [
    "from snsUtils import getConversationIdsFromUser, getThread, Thread, getTweet, getThread\n",
    "from datetime import datetime, timedelta, timezone\n",
    "from pprint import pprint"
   ]
  },
  {
   "cell_type": "code",
   "execution_count": 3,
   "metadata": {},
   "outputs": [],
   "source": [
    "thread = getThread(1637082694541791233)"
   ]
  },
  {
   "cell_type": "code",
   "execution_count": 14,
   "metadata": {},
   "outputs": [
    {
     "name": "stdout",
     "output_type": "stream",
     "text": [
      "[Photo(previewUrl='https://pbs.twimg.com/media/FrgWCJjaEAExJFE?format=jpg&name=small',\n",
      "       fullUrl='https://pbs.twimg.com/media/FrgWCJjaEAExJFE?format=jpg&name=orig',\n",
      "       altText=None)]\n"
     ]
    },
    {
     "data": {
      "text/plain": [
       "[[Photo(previewUrl='https://pbs.twimg.com/media/FrgWCJjaEAExJFE?format=jpg&name=small', fullUrl='https://pbs.twimg.com/media/FrgWCJjaEAExJFE?format=jpg&name=orig', altText=None)],\n",
       " [Photo(previewUrl='https://pbs.twimg.com/media/FrgWD5saMAAzjLy?format=jpg&name=small', fullUrl='https://pbs.twimg.com/media/FrgWD5saMAAzjLy?format=jpg&name=orig', altText=None)],\n",
       " [Photo(previewUrl='https://pbs.twimg.com/media/FrigzFeXsAI220e?format=jpg&name=small', fullUrl='https://pbs.twimg.com/media/FrigzFeXsAI220e?format=jpg&name=orig', altText=None)]]"
      ]
     },
     "execution_count": 14,
     "metadata": {},
     "output_type": "execute_result"
    }
   ],
   "source": [
    "pprint(thread.tweets[0].media)\n",
    "\n",
    "[tweet.media for tweet in thread.tweets if tweet.media]"
   ]
  }
 ],
 "metadata": {
  "kernelspec": {
   "display_name": "raptor-eQf0dIv_-py3.11",
   "language": "python",
   "name": "python3"
  },
  "language_info": {
   "codemirror_mode": {
    "name": "ipython",
    "version": 3
   },
   "file_extension": ".py",
   "mimetype": "text/x-python",
   "name": "python",
   "nbconvert_exporter": "python",
   "pygments_lexer": "ipython3",
   "version": "3.11.2"
  },
  "orig_nbformat": 4,
  "vscode": {
   "interpreter": {
    "hash": "40588e803bc5909d1f6788ee9a642654bd860a001eea8ad58fd602b377981a45"
   }
  }
 },
 "nbformat": 4,
 "nbformat_minor": 2
}
